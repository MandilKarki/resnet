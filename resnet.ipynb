{
  "nbformat": 4,
  "nbformat_minor": 0,
  "metadata": {
    "colab": {
      "name": "Untitled63.ipynb",
      "provenance": [],
      "authorship_tag": "ABX9TyOeh4oSkhZAh0ZceFxQ19RS",
      "include_colab_link": true
    },
    "kernelspec": {
      "name": "python3",
      "display_name": "Python 3"
    },
    "accelerator": "GPU"
  },
  "cells": [
    {
      "cell_type": "markdown",
      "metadata": {
        "id": "view-in-github",
        "colab_type": "text"
      },
      "source": [
        "<a href=\"https://colab.research.google.com/github/MandilKarki/resnet/blob/main/resnet.ipynb\" target=\"_parent\"><img src=\"https://colab.research.google.com/assets/colab-badge.svg\" alt=\"Open In Colab\"/></a>"
      ]
    },
    {
      "cell_type": "code",
      "metadata": {
        "id": "xdvNcz2cuc0U"
      },
      "source": [
        "import torch\r\n",
        "import torch.nn as nn\r\n",
        "import torch.optim as optim\r\n",
        "from torch.optim import lr_scheduler\r\n",
        "import numpy as np\r\n",
        "import torchvision\r\n",
        "from torchvision import datasets, models, transforms\r\n",
        "import matplotlib.pyplot as plt\r\n",
        "import time\r\n",
        "import os\r\n",
        "import copy"
      ],
      "execution_count": 1,
      "outputs": []
    },
    {
      "cell_type": "code",
      "metadata": {
        "colab": {
          "base_uri": "https://localhost:8080/"
        },
        "id": "5o_bxgAcueQa",
        "outputId": "7c80339a-c3fe-41f2-a745-be1afcfa282e"
      },
      "source": [
        "from google.colab import drive\r\n",
        "drive.mount('/content/drive')"
      ],
      "execution_count": 2,
      "outputs": [
        {
          "output_type": "stream",
          "text": [
            "Mounted at /content/drive\n"
          ],
          "name": "stdout"
        }
      ]
    },
    {
      "cell_type": "code",
      "metadata": {
        "id": "1n0B0cRTugWu"
      },
      "source": [
        "mean = np.array([0.5, 0.5, 0.5])\r\n",
        "std = np.array([0.25, 0.25, 0.25])\r\n",
        "\r\n",
        "data_transforms = {\r\n",
        "    'train': transforms.Compose([\r\n",
        "        transforms.RandomResizedCrop(224),\r\n",
        "        transforms.RandomHorizontalFlip(),\r\n",
        "        transforms.ToTensor(),\r\n",
        "        transforms.Normalize(mean, std)\r\n",
        "    ]),\r\n",
        "    'val': transforms.Compose([\r\n",
        "        transforms.Resize(256),\r\n",
        "        transforms.CenterCrop(224),\r\n",
        "        transforms.ToTensor(),\r\n",
        "        transforms.Normalize(mean, std)\r\n",
        "    ]),\r\n",
        "}"
      ],
      "execution_count": null,
      "outputs": []
    },
    {
      "cell_type": "code",
      "metadata": {
        "id": "KB39Y-wjuuiB"
      },
      "source": [
        "data_dir = '/content/drive/MyDrive/hymenoptera_data'\r\n",
        "image_datasets = {x: datasets.ImageFolder(os.path.join(data_dir, x),\r\n",
        "                                          data_transforms[x])\r\n",
        "                  for x in ['train', 'val']}\r\n",
        "dataloaders = {x: torch.utils.data.DataLoader(image_datasets[x], batch_size=4,\r\n",
        "                                             shuffle=True, num_workers=0)\r\n",
        "              for x in ['train', 'val']}\r\n",
        "dataset_sizes = {x: len(image_datasets[x]) for x in ['train', 'val']}\r\n",
        "class_names = image_datasets['train'].classes"
      ],
      "execution_count": 14,
      "outputs": []
    },
    {
      "cell_type": "code",
      "metadata": {
        "colab": {
          "base_uri": "https://localhost:8080/"
        },
        "id": "T4-1ofoAu3zI",
        "outputId": "82894bdb-31d3-4168-90ce-bc8b2bfc924b"
      },
      "source": [
        "device = torch.device(\"cuda:0\" if torch.cuda.is_available() else \"cpu\")\r\n",
        "print(class_names)\r\n"
      ],
      "execution_count": 15,
      "outputs": [
        {
          "output_type": "stream",
          "text": [
            "['ants', 'bees']\n"
          ],
          "name": "stdout"
        }
      ]
    },
    {
      "cell_type": "code",
      "metadata": {
        "id": "yVjEuFr4u8sc"
      },
      "source": [
        "def imshow(inp, title):\r\n",
        "    \"\"\"Imshow for Tensor.\"\"\"\r\n",
        "    inp = inp.numpy().transpose((1, 2, 0))\r\n",
        "    inp = std * inp + mean\r\n",
        "    inp = np.clip(inp, 0, 1)\r\n",
        "    plt.imshow(inp)\r\n",
        "    plt.title(title)\r\n",
        "    plt.show()\r\n",
        "\r\n"
      ],
      "execution_count": 16,
      "outputs": []
    },
    {
      "cell_type": "code",
      "metadata": {
        "id": "gsefxd1Nu_oy"
      },
      "source": [
        "\r\n",
        "# Get a batch of training data\r\n",
        "inputs, classes = next(iter(dataloaders['train']))\r\n"
      ],
      "execution_count": 17,
      "outputs": []
    },
    {
      "cell_type": "code",
      "metadata": {
        "id": "0ZNGYYjPvCqm"
      },
      "source": [
        "# Make a grid from batch\r\n",
        "out = torchvision.utils.make_grid(inputs)"
      ],
      "execution_count": 18,
      "outputs": []
    },
    {
      "cell_type": "code",
      "metadata": {
        "colab": {
          "base_uri": "https://localhost:8080/",
          "height": 148
        },
        "id": "u1KEuMBwvFYK",
        "outputId": "dc7229ae-6f5a-4fde-d930-da542496974a"
      },
      "source": [
        "imshow(out, title=[class_names[x] for x in classes])"
      ],
      "execution_count": 19,
      "outputs": [
        {
          "output_type": "display_data",
          "data": {
            "image/png": "[encoded data removed]",
            "text/plain": [
              "<Figure size 432x288 with 1 Axes>"
            ]
          },
          "metadata": {
            "tags": [],
            "needs_background": "light"
          }
        }
      ]
    },
    {
      "cell_type": "code",
      "metadata": {
        "id": "mLxYHqSHvH4a"
      },
      "source": [
        "\r\n",
        "def train_model(model, criterion, optimizer, scheduler, num_epochs=25):\r\n",
        "    since = time.time()\r\n",
        "\r\n",
        "    best_model_wts = copy.deepcopy(model.state_dict())\r\n",
        "    best_acc = 0.0\r\n",
        "\r\n",
        "    for epoch in range(num_epochs):\r\n",
        "        print('Epoch {}/{}'.format(epoch, num_epochs - 1))\r\n",
        "        print('-' * 10)\r\n",
        "\r\n",
        "        # Each epoch has a training and validation phase\r\n",
        "        for phase in ['train', 'val']:\r\n",
        "            if phase == 'train':\r\n",
        "                model.train()  # Set model to training mode\r\n",
        "            else:\r\n",
        "                model.eval()   # Set model to evaluate mode\r\n",
        "\r\n",
        "            running_loss = 0.0\r\n",
        "            running_corrects = 0\r\n",
        "\r\n",
        "            # Iterate over data.\r\n",
        "            for inputs, labels in dataloaders[phase]:\r\n",
        "                inputs = inputs.to(device)\r\n",
        "                labels = labels.to(device)\r\n",
        "\r\n",
        "                # forward\r\n",
        "                # track history if only in train\r\n",
        "                with torch.set_grad_enabled(phase == 'train'):\r\n",
        "                    outputs = model(inputs)\r\n",
        "                    _, preds = torch.max(outputs, 1)\r\n",
        "                    loss = criterion(outputs, labels)\r\n",
        "\r\n",
        "                    # backward + optimize only if in training phase\r\n",
        "                    if phase == 'train':\r\n",
        "                        optimizer.zero_grad()\r\n",
        "                        loss.backward()\r\n",
        "                        optimizer.step()\r\n",
        "\r\n",
        "                # statistics\r\n",
        "                running_loss += loss.item() * inputs.size(0)\r\n",
        "                running_corrects += torch.sum(preds == labels.data)\r\n",
        "\r\n",
        "            if phase == 'train':\r\n",
        "                scheduler.step()\r\n",
        "\r\n",
        "            epoch_loss = running_loss / dataset_sizes[phase]\r\n",
        "            epoch_acc = running_corrects.double() / dataset_sizes[phase]\r\n",
        "\r\n",
        "            print('{} Loss: {:.4f} Acc: {:.4f}'.format(\r\n",
        "                phase, epoch_loss, epoch_acc))\r\n",
        "\r\n",
        "            # deep copy the model\r\n",
        "            if phase == 'val' and epoch_acc > best_acc:\r\n",
        "                best_acc = epoch_acc\r\n",
        "                best_model_wts = copy.deepcopy(model.state_dict())\r\n",
        "\r\n",
        "        print()\r\n",
        "\r\n",
        "    time_elapsed = time.time() - since\r\n",
        "    print('Training complete in {:.0f}m {:.0f}s'.format(\r\n",
        "        time_elapsed // 60, time_elapsed % 60))\r\n",
        "    print('Best val Acc: {:4f}'.format(best_acc))\r\n",
        "\r\n",
        "    # load best model weights\r\n",
        "    model.load_state_dict(best_model_wts)\r\n",
        "    return model\r\n"
      ],
      "execution_count": 20,
      "outputs": []
    },
    {
      "cell_type": "code",
      "metadata": {
        "id": "vfcpEpC6vTC_"
      },
      "source": [
        "\r\n",
        "#### Finetuning the convnet ####\r\n",
        "# Load a pretrained model and reset final fully connected layer.\r\n",
        "\r\n",
        "model = models.resnet18(pretrained=True)\r\n",
        "num_ftrs = model.fc.in_features\r\n",
        "# Here the size of each output sample is set to 2.\r\n",
        "# Alternatively, it can be generalized to nn.Linear(num_ftrs, len(class_names)).\r\n",
        "model.fc = nn.Linear(num_ftrs, 2)\r\n",
        "\r\n",
        "model = model.to(device)\r\n",
        "\r\n",
        "criterion = nn.CrossEntropyLoss()\r\n",
        "\r\n",
        "# Observe that all parameters are being optimized\r\n",
        "optimizer = optim.SGD(model.parameters(), lr=0.001)\r\n",
        "    "
      ],
      "execution_count": 21,
      "outputs": []
    },
    {
      "cell_type": "code",
      "metadata": {
        "id": "wU4GRiz3vYE-"
      },
      "source": [
        "\r\n",
        "# StepLR Decays the learning rate of each parameter group by gamma every step_size epochs\r\n",
        "# Decay LR by a factor of 0.1 every 7 epochs\r\n",
        "# Learning rate scheduling should be applied after optimizer’s update\r\n",
        "# e.g., you should write your code this way:\r\n",
        "# for epoch in range(100):\r\n",
        "#     train(...)\r\n",
        "#     validate(...)\r\n",
        "#     scheduler.step()\r\n",
        "\r\n",
        "step_lr_scheduler = lr_scheduler.StepLR(optimizer, step_size=7, gamma=0.1)\r\n"
      ],
      "execution_count": 22,
      "outputs": []
    },
    {
      "cell_type": "code",
      "metadata": {
        "colab": {
          "base_uri": "https://localhost:8080/"
        },
        "id": "7wiej-Ugvtjr",
        "outputId": "472800c9-3d27-4525-b71a-b26de4cca857"
      },
      "source": [
        "model = train_model(model, criterion, optimizer, step_lr_scheduler, num_epochs=5)"
      ],
      "execution_count": 23,
      "outputs": [
        {
          "output_type": "stream",
          "text": [
            "Epoch 0/4\n",
            "----------\n",
            "train Loss: 0.6051 Acc: 0.6352\n",
            "val Loss: 0.4277 Acc: 0.8627\n",
            "\n",
            "Epoch 1/4\n",
            "----------\n",
            "train Loss: 0.5263 Acc: 0.7500\n",
            "val Loss: 0.3345 Acc: 0.8889\n",
            "\n",
            "Epoch 2/4\n",
            "----------\n",
            "train Loss: 0.4348 Acc: 0.8115\n",
            "val Loss: 0.2716 Acc: 0.9216\n",
            "\n",
            "Epoch 3/4\n",
            "----------\n",
            "train Loss: 0.4417 Acc: 0.7828\n",
            "val Loss: 0.2492 Acc: 0.9216\n",
            "\n",
            "Epoch 4/4\n",
            "----------\n",
            "train Loss: 0.3678 Acc: 0.8770\n",
            "val Loss: 0.2191 Acc: 0.9346\n",
            "\n",
            "Training complete in 1m 28s\n",
            "Best val Acc: 0.934641\n"
          ],
          "name": "stdout"
        }
      ]
    },
    {
      "cell_type": "code",
      "metadata": {
        "id": "6ijYl-L9vv3h"
      },
      "source": [
        "#### ConvNet as fixed feature extractor ####\r\n",
        "# Here, we need to freeze all the network except the final layer.\r\n",
        "# We need to set requires_grad == False to freeze the parameters so that the gradients are not computed in backward()\r\n",
        "model_conv = torchvision.models.resnet18(pretrained=True)\r\n",
        "for param in model_conv.parameters():\r\n",
        "    param.requires_grad = False"
      ],
      "execution_count": 24,
      "outputs": []
    },
    {
      "cell_type": "code",
      "metadata": {
        "colab": {
          "base_uri": "https://localhost:8080/"
        },
        "id": "CZiFaxVdwHfg",
        "outputId": "25d21508-446f-4234-ea09-1e2046829bb6"
      },
      "source": [
        "\r\n",
        "# Parameters of newly constructed modules have requires_grad=True by default\r\n",
        "num_ftrs = model_conv.fc.in_features\r\n",
        "model_conv.fc = nn.Linear(num_ftrs, 2)\r\n",
        "\r\n",
        "model_conv = model_conv.to(device)\r\n",
        "\r\n",
        "criterion = nn.CrossEntropyLoss()\r\n",
        "\r\n",
        "# Observe that only parameters of final layer are being optimized as\r\n",
        "# opposed to before.\r\n",
        "optimizer_conv = optim.SGD(model_conv.fc.parameters(), lr=0.001, momentum=0.9)\r\n",
        "\r\n",
        "# Decay LR by a factor of 0.1 every 7 epochs\r\n",
        "exp_lr_scheduler = lr_scheduler.StepLR(optimizer_conv, step_size=7, gamma=0.1)\r\n",
        "\r\n",
        "model_conv = train_model(model_conv, criterion, optimizer_conv,\r\n",
        "                         exp_lr_scheduler, num_epochs=10)"
      ],
      "execution_count": 26,
      "outputs": [
        {
          "output_type": "stream",
          "text": [
            "Epoch 0/9\n",
            "----------\n",
            "train Loss: 0.5442 Acc: 0.6803\n",
            "val Loss: 0.2158 Acc: 0.9346\n",
            "\n",
            "Epoch 1/9\n",
            "----------\n",
            "train Loss: 0.6407 Acc: 0.7254\n",
            "val Loss: 0.5177 Acc: 0.7908\n",
            "\n",
            "Epoch 2/9\n",
            "----------\n",
            "train Loss: 0.3114 Acc: 0.8975\n",
            "val Loss: 0.2984 Acc: 0.8954\n",
            "\n",
            "Epoch 3/9\n",
            "----------\n",
            "train Loss: 0.4482 Acc: 0.8115\n",
            "val Loss: 0.2400 Acc: 0.9150\n",
            "\n",
            "Epoch 4/9\n",
            "----------\n",
            "train Loss: 0.4470 Acc: 0.8033\n",
            "val Loss: 0.1887 Acc: 0.9477\n",
            "\n",
            "Epoch 5/9\n",
            "----------\n",
            "train Loss: 0.4185 Acc: 0.8361\n",
            "val Loss: 0.2358 Acc: 0.9150\n",
            "\n",
            "Epoch 6/9\n",
            "----------\n",
            "train Loss: 0.4412 Acc: 0.8115\n",
            "val Loss: 0.1817 Acc: 0.9477\n",
            "\n",
            "Epoch 7/9\n",
            "----------\n",
            "train Loss: 0.2798 Acc: 0.8607\n",
            "val Loss: 0.1828 Acc: 0.9412\n",
            "\n",
            "Epoch 8/9\n",
            "----------\n",
            "train Loss: 0.4039 Acc: 0.8197\n",
            "val Loss: 0.1758 Acc: 0.9477\n",
            "\n",
            "Epoch 9/9\n",
            "----------\n",
            "train Loss: 0.3955 Acc: 0.7910\n",
            "val Loss: 0.2080 Acc: 0.9412\n",
            "\n",
            "Training complete in 0m 41s\n",
            "Best val Acc: 0.947712\n"
          ],
          "name": "stdout"
        }
      ]
    },
    {
      "cell_type": "code",
      "metadata": {
        "id": "tEfIU1RuwKbh"
      },
      "source": [
        ""
      ],
      "execution_count": null,
      "outputs": []
    }
  ]
}